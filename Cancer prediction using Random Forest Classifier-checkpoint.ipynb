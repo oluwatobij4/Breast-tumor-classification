{
 "cells": [
  {
   "cell_type": "code",
   "execution_count": 7,
   "id": "105bfdc9",
   "metadata": {},
   "outputs": [],
   "source": [
    "#import libraries\n",
    "import pandas as pd\n",
    "import seaborn as sns\n",
    "import numpy as np\n",
    "import matplotlib.pyplot as plt\n",
    "import warnings\n",
    "warnings.filterwarnings(\"ignore\")\n",
    "# import evaluation library\n",
    "from sklearn.model_selection import train_test_split, cross_val_score, KFold, GridSearchCV\n",
    "from sklearn.metrics import accuracy_score, precision_score, recall_score,f1_score, confusion_matrix, classification_report\n",
    "from sklearn.preprocessing import StandardScaler\n",
    "\n",
    "# Pipelines\n",
    "from sklearn.pipeline import Pipeline, FeatureUnion\n",
    "from sklearn.compose import ColumnTransformer\n",
    "\n",
    "#import ml Algorithms\n",
    "from sklearn.tree import DecisionTreeClassifier\n",
    "from sklearn.ensemble import RandomForestClassifier\n",
    "from sklearn.neighbors import KNeighborsClassifier\n",
    "from sklearn.svm import SVC\n",
    "\n",
    "from sklearn.linear_model import LogisticRegression\n",
    "from sklearn.pipeline import make_pipeline"
   ]
  },
  {
   "cell_type": "code",
   "execution_count": 8,
   "id": "e0a936a6",
   "metadata": {},
   "outputs": [],
   "source": [
    "#import dataset\n",
    "df =pd.read_csv('health data.csv')\n",
    "df.drop('Unnamed: 32',axis = 1,inplace = True)"
   ]
  },
  {
   "cell_type": "code",
   "execution_count": 9,
   "id": "6515b557",
   "metadata": {},
   "outputs": [],
   "source": [
    "#preprocess #1\n",
    "df.diagnosis = [1 if each == \"M\" else 0 for each in df.diagnosis]\n"
   ]
  },
  {
   "cell_type": "code",
   "execution_count": 10,
   "id": "0edcea15",
   "metadata": {},
   "outputs": [],
   "source": [
    "#split dataset for optimized training, validation and testing\n",
    "train, test = train_test_split(df, test_size = 0.2, random_state = 40)\n",
    "train_x = train.drop(['diagnosis'], axis = 1)\n",
    "train_y = train['diagnosis']\n",
    "test_x = test.drop(['diagnosis'], axis = 1)\n",
    "test_y = test['diagnosis']"
   ]
  },
  {
   "cell_type": "code",
   "execution_count": 11,
   "id": "49bef076",
   "metadata": {},
   "outputs": [],
   "source": [
    "num_col = ['radius_mean', 'texture_mean', 'perimeter_mean',\n",
    "       'area_mean', 'smoothness_mean', 'compactness_mean', 'concavity_mean',\n",
    "       'concave points_mean', 'symmetry_mean', 'fractal_dimension_mean',\n",
    "       'radius_se', 'texture_se', 'perimeter_se', 'area_se', 'smoothness_se',\n",
    "       'compactness_se', 'concavity_se', 'concave points_se', 'symmetry_se',\n",
    "       'fractal_dimension_se', 'radius_worst', 'texture_worst',\n",
    "       'perimeter_worst', 'area_worst', 'smoothness_worst',\n",
    "       'compactness_worst', 'concavity_worst', 'concave points_worst',\n",
    "       'symmetry_worst', 'fractal_dimension_worst']\n"
   ]
  },
  {
   "cell_type": "code",
   "execution_count": 12,
   "id": "9e08bc68",
   "metadata": {},
   "outputs": [],
   "source": [
    "#1. Feature categorizing class for pipeline preprocess\n",
    "\n",
    "class Featurselector( StandardScaler):\n",
    "    def __init__(self,feature_names):\n",
    "        self._feature_names = feature_names\n",
    "        \n",
    "    def fit(self, x, y = None):\n",
    "        return self\n",
    "    def transform(self, x, y = None):\n",
    "        return x[self._feature_names]\n",
    "        "
   ]
  },
  {
   "cell_type": "code",
   "execution_count": 20,
   "id": "8c4fd4c9",
   "metadata": {},
   "outputs": [],
   "source": [
    "num_pipeline = Pipeline(steps = [('std_scaler', StandardScaler())])\n",
    "full_pipeline = FeatureUnion(transformer_list = [('num_path', num_pipeline)])"
   ]
  },
  {
   "cell_type": "code",
   "execution_count": 21,
   "id": "534e2523",
   "metadata": {},
   "outputs": [],
   "source": [
    "processed_data = full_pipeline.fit_transform(train_x)"
   ]
  },
  {
   "cell_type": "code",
   "execution_count": 22,
   "id": "644cada1",
   "metadata": {},
   "outputs": [],
   "source": [
    "#evaluation matrix function\n",
    "\n",
    "def evaluation(y, y_hat, title = 'Confusion Matrix'):\n",
    "    cm = confusion_matrix(y, y_hat)\n",
    "    precision = precision_score(y, y_hat)\n",
    "    recall = recall_score(y, y_hat)\n",
    "    accuracy = accuracy_score(y,y_hat)\n",
    "    f1 = f1_score(y,y_hat)\n",
    "    print('Recall: ', recall)\n",
    "    print('Accuracy: ', accuracy)\n",
    "    print('Precision: ', precision)\n",
    "    print('F1: ', f1)\n",
    "    sns.heatmap(cm,  cmap= 'PuBu', annot=True, fmt='g', annot_kws=    {'size':20})\n",
    "    plt.xlabel('predicted', fontsize=18)\n",
    "    plt.ylabel('actual', fontsize=18)\n",
    "    plt.title(title, fontsize=18)\n",
    "    \n",
    "    plt.show();"
   ]
  },
  {
   "cell_type": "code",
   "execution_count": 23,
   "id": "82040d5b",
   "metadata": {},
   "outputs": [],
   "source": [
    "scoring = 'accuracy'\n",
    "seed =7"
   ]
  },
  {
   "cell_type": "code",
   "execution_count": 24,
   "id": "cfb4fefe",
   "metadata": {},
   "outputs": [],
   "source": [
    "# prepare models for evaluation\n",
    "models = []\n",
    "models.append(('LR', LogisticRegression()))\n",
    "models.append(('RDC', RandomForestClassifier()))\n",
    "models.append(('KNN', KNeighborsClassifier()))\n",
    "models.append(('CART', DecisionTreeClassifier()))\n",
    "\n",
    "models.append(('SVM', SVC()))"
   ]
  },
  {
   "cell_type": "code",
   "execution_count": 27,
   "id": "b65e7164",
   "metadata": {},
   "outputs": [
    {
     "name": "stdout",
     "output_type": "stream",
     "text": [
      "Recall:  0.9310344827586207\n",
      "Accuracy:  0.967032967032967\n",
      "Precision:  0.9642857142857143\n",
      "F1:  0.9473684210526316\n"
     ]
    },
    {
     "data": {
      "image/png": "[encoded data removed]",
      "text/plain": [
       "<Figure size 432x288 with 2 Axes>"
      ]
     },
     "metadata": {
      "needs_background": "light"
     },
     "output_type": "display_data"
    },
    {
     "name": "stdout",
     "output_type": "stream",
     "text": [
      "None\n",
      "LR: 0.971429 (0.020382)\n",
      "Recall:  0.90625\n",
      "Accuracy:  0.9560439560439561\n",
      "Precision:  0.9666666666666667\n",
      "F1:  0.9354838709677419\n"
     ]
    },
    {
     "data": {
      "image/png": "[encoded data removed]",
      "text/plain": [
       "<Figure size 432x288 with 2 Axes>"
      ]
     },
     "metadata": {
      "needs_background": "light"
     },
     "output_type": "display_data"
    },
    {
     "name": "stdout",
     "output_type": "stream",
     "text": [
      "None\n",
      "RDC: 0.956044 (0.018388)\n",
      "Recall:  0.9411764705882353\n",
      "Accuracy:  0.967032967032967\n",
      "Precision:  0.9696969696969697\n",
      "F1:  0.955223880597015\n"
     ]
    },
    {
     "data": {
      "image/png": "[encoded data removed]",
      "text/plain": [
       "<Figure size 432x288 with 2 Axes>"
      ]
     },
     "metadata": {
      "needs_background": "light"
     },
     "output_type": "display_data"
    },
    {
     "name": "stdout",
     "output_type": "stream",
     "text": [
      "None\n",
      "KNN: 0.967033 (0.019658)\n",
      "Recall:  0.9230769230769231\n",
      "Accuracy:  0.9560439560439561\n",
      "Precision:  0.9230769230769231\n",
      "F1:  0.9230769230769231\n"
     ]
    },
    {
     "data": {
      "image/png": "[encoded data removed]",
      "text/plain": [
       "<Figure size 432x288 with 2 Axes>"
      ]
     },
     "metadata": {
      "needs_background": "light"
     },
     "output_type": "display_data"
    },
    {
     "name": "stdout",
     "output_type": "stream",
     "text": [
      "None\n",
      "CART: 0.927473 (0.022628)\n",
      "Recall:  0.8571428571428571\n",
      "Accuracy:  0.9340659340659341\n",
      "Precision:  0.967741935483871\n",
      "F1:  0.909090909090909\n"
     ]
    },
    {
     "data": {
      "image/png": "[encoded data removed]",
      "text/plain": [
       "<Figure size 432x288 with 2 Axes>"
      ]
     },
     "metadata": {
      "needs_background": "light"
     },
     "output_type": "display_data"
    },
    {
     "name": "stdout",
     "output_type": "stream",
     "text": [
      "None\n",
      "SVM: 0.971429 (0.025631)\n"
     ]
    }
   ],
   "source": [
    "# evaluate each model in turn\n",
    "results = []\n",
    "names = []\n",
    "test_acc = []\n",
    "for name, model in models:\n",
    "     pipeline = Pipeline(steps=[('preprocess', num_pipeline),('classifier', model)])\n",
    "     \n",
    "     validation_size = 0.20\n",
    "     seed = 7\n",
    "     X_train, X_validation, Y_train, Y_validation =train_test_split(processed_data, train_y, test_size=validation_size)\n",
    "     kfold = KFold(n_splits= 5)\n",
    "     cv_results = cross_val_score(model, processed_data, train_y, cv=kfold, scoring=scoring)\n",
    "     model.fit(X_train, Y_train)\n",
    "     predictions = model.predict(X_validation)\n",
    "\n",
    "     print(evaluation(Y_validation, predictions))\n",
    "     results.append(cv_results)\n",
    "     names.append(name)\n",
    "     msg = \"%s: %f (%f)\" % (name, cv_results.mean(), cv_results.std())\n",
    "     print(msg)\n",
    "     "
   ]
  },
  {
   "cell_type": "code",
   "execution_count": 28,
   "id": "f26e684f",
   "metadata": {},
   "outputs": [],
   "source": [
    "precessed_data = full_pipeline.fit_transform(test_x)"
   ]
  },
  {
   "cell_type": "code",
   "execution_count": 29,
   "id": "387db9a9",
   "metadata": {},
   "outputs": [
    {
     "name": "stdout",
     "output_type": "stream",
     "text": [
      "0.9473684210526315\n",
      "[[71  4]\n",
      " [ 2 37]]\n",
      "              precision    recall  f1-score   support\n",
      "\n",
      "           0       0.97      0.95      0.96        75\n",
      "           1       0.90      0.95      0.92        39\n",
      "\n",
      "    accuracy                           0.95       114\n",
      "   macro avg       0.94      0.95      0.94       114\n",
      "weighted avg       0.95      0.95      0.95       114\n",
      "\n"
     ]
    }
   ],
   "source": [
    "#predict test set\n",
    "# Make predictions on validation dataset\n",
    "rdc = RandomForestClassifier()\n",
    "rdc.fit(processed_data, train_y)\n",
    "prediction = rdc.predict(precessed_data)\n",
    "print(accuracy_score(test_y, prediction))\n",
    "print(confusion_matrix(test_y, prediction))\n",
    "print(classification_report(test_y, prediction))\n"
   ]
  },
  {
   "cell_type": "code",
   "execution_count": null,
   "id": "a8b4fd40",
   "metadata": {},
   "outputs": [],
   "source": []
  },
  {
   "cell_type": "code",
   "execution_count": null,
   "id": "5ed3a070",
   "metadata": {},
   "outputs": [],
   "source": []
  },
  {
   "cell_type": "code",
   "execution_count": null,
   "id": "4d5ac574",
   "metadata": {},
   "outputs": [],
   "source": []
  }
 ],
 "metadata": {
  "kernelspec": {
   "display_name": "Python 3",
   "language": "python",
   "name": "python3"
  },
  "language_info": {
   "codemirror_mode": {
    "name": "ipython",
    "version": 3
   },
   "file_extension": ".py",
   "mimetype": "text/x-python",
   "name": "python",
   "nbconvert_exporter": "python",
   "pygments_lexer": "ipython3",
   "version": "3.8.8"
  }
 },
 "nbformat": 4,
 "nbformat_minor": 5
}
